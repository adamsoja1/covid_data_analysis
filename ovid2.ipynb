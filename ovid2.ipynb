{
 "cells": [
  {
   "cell_type": "code",
   "execution_count": 1,
   "id": "8dfd6f7a-09fb-4be5-803b-de8f6b1fa111",
   "metadata": {},
   "outputs": [],
   "source": [
    "import pandas as pd\n",
    "import seaborn as sns\n",
    "import matplotlib.pyplot as plt\n",
    "import numpy as np"
   ]
  },
  {
   "cell_type": "code",
   "execution_count": 34,
   "id": "107e3e60-b92f-48e8-ba17-2a3456669725",
   "metadata": {},
   "outputs": [],
   "source": [
    "df = pd.read_csv('owid-covid-data.csv')\n",
    "df_filtered = df.loc[df['location'].isin(['Poland','Japan'])] "
   ]
  },
  {
   "cell_type": "code",
   "execution_count": 3,
   "id": "e283c26c-670d-435b-819e-86fcce62f446",
   "metadata": {},
   "outputs": [
    {
     "data": {
      "text/plain": [
       "Index(['iso_code', 'continent', 'location', 'date', 'total_cases', 'new_cases',\n",
       "       'new_cases_smoothed', 'total_deaths', 'new_deaths',\n",
       "       'new_deaths_smoothed', 'total_cases_per_million',\n",
       "       'new_cases_per_million', 'new_cases_smoothed_per_million',\n",
       "       'total_deaths_per_million', 'new_deaths_per_million',\n",
       "       'new_deaths_smoothed_per_million', 'reproduction_rate', 'icu_patients',\n",
       "       'icu_patients_per_million', 'hosp_patients',\n",
       "       'hosp_patients_per_million', 'weekly_icu_admissions',\n",
       "       'weekly_icu_admissions_per_million', 'weekly_hosp_admissions',\n",
       "       'weekly_hosp_admissions_per_million', 'total_tests', 'new_tests',\n",
       "       'total_tests_per_thousand', 'new_tests_per_thousand',\n",
       "       'new_tests_smoothed', 'new_tests_smoothed_per_thousand',\n",
       "       'positive_rate', 'tests_per_case', 'tests_units', 'total_vaccinations',\n",
       "       'people_vaccinated', 'people_fully_vaccinated', 'total_boosters',\n",
       "       'new_vaccinations', 'new_vaccinations_smoothed',\n",
       "       'total_vaccinations_per_hundred', 'people_vaccinated_per_hundred',\n",
       "       'people_fully_vaccinated_per_hundred', 'total_boosters_per_hundred',\n",
       "       'new_vaccinations_smoothed_per_million',\n",
       "       'new_people_vaccinated_smoothed',\n",
       "       'new_people_vaccinated_smoothed_per_hundred', 'stringency_index',\n",
       "       'population_density', 'median_age', 'aged_65_older', 'aged_70_older',\n",
       "       'gdp_per_capita', 'extreme_poverty', 'cardiovasc_death_rate',\n",
       "       'diabetes_prevalence', 'female_smokers', 'male_smokers',\n",
       "       'handwashing_facilities', 'hospital_beds_per_thousand',\n",
       "       'life_expectancy', 'human_development_index', 'population',\n",
       "       'excess_mortality_cumulative_absolute', 'excess_mortality_cumulative',\n",
       "       'excess_mortality', 'excess_mortality_cumulative_per_million'],\n",
       "      dtype='object')"
      ]
     },
     "execution_count": 3,
     "metadata": {},
     "output_type": "execute_result"
    }
   ],
   "source": [
    "df_filtered.columns"
   ]
  },
  {
   "cell_type": "code",
   "execution_count": 5,
   "id": "f431b52c-1359-4f52-9545-0462ac2d77f8",
   "metadata": {},
   "outputs": [
    {
     "data": {
      "text/plain": [
       "location\n",
       "Japan     [33.7]\n",
       "Poland    [33.1]\n",
       "Name: male_smokers, dtype: object"
      ]
     },
     "execution_count": 5,
     "metadata": {},
     "output_type": "execute_result"
    }
   ],
   "source": [
    "unique_values = df_filtered.groupby('location')['male_smokers'].unique()\n",
    "unique_values"
   ]
  },
  {
   "cell_type": "code",
   "execution_count": 6,
   "id": "341293d4-e1d7-4537-b76a-ac2e1febfa31",
   "metadata": {},
   "outputs": [
    {
     "data": {
      "text/plain": [
       "location\n",
       "Japan     [11.2]\n",
       "Poland    [23.3]\n",
       "Name: female_smokers, dtype: object"
      ]
     },
     "execution_count": 6,
     "metadata": {},
     "output_type": "execute_result"
    }
   ],
   "source": [
    "unique_values = df_filtered.groupby('location')['female_smokers'].unique()\n",
    "unique_values"
   ]
  },
  {
   "cell_type": "code",
   "execution_count": 7,
   "id": "63b5097b-ee4b-441a-b34b-fdd996cec2f0",
   "metadata": {},
   "outputs": [
    {
     "data": {
      "text/plain": [
       "location\n",
       "Japan     [5.72]\n",
       "Poland    [5.91]\n",
       "Name: diabetes_prevalence, dtype: object"
      ]
     },
     "execution_count": 7,
     "metadata": {},
     "output_type": "execute_result"
    }
   ],
   "source": [
    "unique_values = df_filtered.groupby('location')['diabetes_prevalence'].unique()\n",
    "unique_values"
   ]
  },
  {
   "cell_type": "code",
   "execution_count": 8,
   "id": "3fa7a905-8175-43c8-88e8-e99e3394bc5f",
   "metadata": {},
   "outputs": [
    {
     "data": {
      "text/plain": [
       "location\n",
       "Japan     [0.0, 2.78, 8.33, 19.44, 25.0, 34.26, 43.52, 4...\n",
       "Poland    [0.0, 5.56, 11.11, 13.89, 25.0, 41.67, 49.07, ...\n",
       "Name: stringency_index, dtype: object"
      ]
     },
     "execution_count": 8,
     "metadata": {},
     "output_type": "execute_result"
    }
   ],
   "source": [
    "unique_values = df_filtered.groupby('location')['stringency_index'].unique()\n",
    "unique_values"
   ]
  },
  {
   "cell_type": "code",
   "execution_count": 9,
   "id": "0605dbd5-8a92-44cc-a9f0-3be81b741009",
   "metadata": {},
   "outputs": [
    {
     "data": {
      "text/plain": [
       "location\n",
       "Japan     [48.2]\n",
       "Poland    [41.8]\n",
       "Name: median_age, dtype: object"
      ]
     },
     "execution_count": 9,
     "metadata": {},
     "output_type": "execute_result"
    }
   ],
   "source": [
    "unique_values = df_filtered.groupby('location')['median_age'].unique()\n",
    "unique_values"
   ]
  },
  {
   "cell_type": "code",
   "execution_count": 10,
   "id": "44dda705-3378-4d11-8754-bbc187008e62",
   "metadata": {},
   "outputs": [
    {
     "data": {
      "text/plain": [
       "location\n",
       "Japan     [27.049]\n",
       "Poland    [16.763]\n",
       "Name: aged_65_older, dtype: object"
      ]
     },
     "execution_count": 10,
     "metadata": {},
     "output_type": "execute_result"
    }
   ],
   "source": [
    "unique_values = df_filtered.groupby('location')['aged_65_older'].unique()\n",
    "unique_values"
   ]
  },
  {
   "cell_type": "code",
   "execution_count": 11,
   "id": "50de1463-8bbf-48d5-8692-15eb8bb5f62a",
   "metadata": {},
   "outputs": [
    {
     "data": {
      "text/plain": [
       "location\n",
       "Japan     [18.493]\n",
       "Poland    [10.202]\n",
       "Name: aged_70_older, dtype: object"
      ]
     },
     "execution_count": 11,
     "metadata": {},
     "output_type": "execute_result"
    }
   ],
   "source": [
    "unique_values = df_filtered.groupby('location')['aged_70_older'].unique()\n",
    "unique_values"
   ]
  },
  {
   "cell_type": "code",
   "execution_count": 12,
   "id": "5ca5bbb1-e652-423e-b643-8bb5a137d141",
   "metadata": {},
   "outputs": [
    {
     "data": {
      "text/plain": [
       "location\n",
       "Japan       [79.37]\n",
       "Poland    [227.331]\n",
       "Name: cardiovasc_death_rate, dtype: object"
      ]
     },
     "execution_count": 12,
     "metadata": {},
     "output_type": "execute_result"
    }
   ],
   "source": [
    "unique_values = df_filtered.groupby('location')['cardiovasc_death_rate'].unique()\n",
    "unique_values"
   ]
  },
  {
   "cell_type": "code",
   "execution_count": 16,
   "id": "1ed7994a-68cb-482d-b3ed-2ac447cc1452",
   "metadata": {},
   "outputs": [
    {
     "data": {
      "text/plain": [
       "location\n",
       "Japan     [84.63]\n",
       "Poland    [78.73]\n",
       "Name: life_expectancy, dtype: object"
      ]
     },
     "execution_count": 16,
     "metadata": {},
     "output_type": "execute_result"
    }
   ],
   "source": [
    "unique_values = df_filtered.groupby('location')['life_expectancy'].unique()\n",
    "unique_values"
   ]
  },
  {
   "cell_type": "code",
   "execution_count": 19,
   "id": "47661d6b-6cb6-4d6f-9d1c-2f703b92cc9e",
   "metadata": {},
   "outputs": [
    {
     "data": {
      "text/plain": [
       "location\n",
       "Japan     [39002.223]\n",
       "Poland    [27216.445]\n",
       "Name: gdp_per_capita, dtype: object"
      ]
     },
     "execution_count": 19,
     "metadata": {},
     "output_type": "execute_result"
    }
   ],
   "source": [
    "unique_values = df_filtered.groupby('location')['gdp_per_capita'].unique()\n",
    "unique_values"
   ]
  },
  {
   "cell_type": "code",
   "execution_count": 20,
   "id": "b3f2db73-3b45-4f29-81f5-7ebccf340543",
   "metadata": {},
   "outputs": [
    {
     "data": {
      "text/plain": [
       "location\n",
       "Japan     [13.05]\n",
       "Poland     [6.62]\n",
       "Name: hospital_beds_per_thousand, dtype: object"
      ]
     },
     "execution_count": 20,
     "metadata": {},
     "output_type": "execute_result"
    }
   ],
   "source": [
    "unique_values = df_filtered.groupby('location')['hospital_beds_per_thousand'].unique()\n",
    "unique_values"
   ]
  },
  {
   "cell_type": "code",
   "execution_count": 22,
   "id": "02414cf7-9e44-4429-a20e-ad5804ad8cb2",
   "metadata": {},
   "outputs": [
    {
     "data": {
      "text/plain": [
       "153835    2020-01-03\n",
       "153836    2020-01-04\n",
       "153837    2020-01-05\n",
       "153838    2020-01-06\n",
       "153839    2020-01-07\n",
       "             ...    \n",
       "251850    2023-10-29\n",
       "251851    2023-10-30\n",
       "251852    2023-10-31\n",
       "251853    2023-11-01\n",
       "251854    2023-11-02\n",
       "Name: date, Length: 2800, dtype: object"
      ]
     },
     "execution_count": 22,
     "metadata": {},
     "output_type": "execute_result"
    }
   ],
   "source": [
    "df_filtered['date']"
   ]
  },
  {
   "cell_type": "code",
   "execution_count": 26,
   "id": "d81b432b-e549-4d32-82d9-349c38e13b8a",
   "metadata": {},
   "outputs": [
    {
     "name": "stdout",
     "output_type": "stream",
     "text": [
      "       iso_code continent location        date  total_cases  new_cases  \\\n",
      "155234      JPN      Asia    Japan  2023-11-02   33803572.0        0.0   \n",
      "251854      POL    Europe   Poland  2023-11-02    6529896.0        0.0   \n",
      "\n",
      "        new_cases_smoothed  total_deaths  new_deaths  new_deaths_smoothed  \\\n",
      "155234                 0.0       74694.0         0.0                  0.0   \n",
      "251854                 0.0      119664.0         0.0                  0.0   \n",
      "\n",
      "        ...  male_smokers  handwashing_facilities  hospital_beds_per_thousand  \\\n",
      "155234  ...          33.7                     NaN                       13.05   \n",
      "251854  ...          33.1                     NaN                        6.62   \n",
      "\n",
      "        life_expectancy  human_development_index   population  \\\n",
      "155234            84.63                    0.919  123951696.0   \n",
      "251854            78.73                    0.880   39857144.0   \n",
      "\n",
      "        excess_mortality_cumulative_absolute  excess_mortality_cumulative  \\\n",
      "155234                                   NaN                          NaN   \n",
      "251854                                   NaN                          NaN   \n",
      "\n",
      "        excess_mortality  excess_mortality_cumulative_per_million  \n",
      "155234               NaN                                      NaN  \n",
      "251854               NaN                                      NaN  \n",
      "\n",
      "[2 rows x 67 columns]\n"
     ]
    }
   ],
   "source": [
    "#total_vaccinations, total_cases, total_deaths\n",
    "df_filtered = df_filtered[df_filtered['date'] == '2023-11-02']\n"
   ]
  },
  {
   "cell_type": "code",
   "execution_count": 28,
   "id": "565a240d-f49d-4057-a192-ddc439460d79",
   "metadata": {},
   "outputs": [
    {
     "data": {
      "text/plain": [
       "155234    33803572.0\n",
       "251854     6529896.0\n",
       "Name: total_cases, dtype: float64"
      ]
     },
     "execution_count": 28,
     "metadata": {},
     "output_type": "execute_result"
    }
   ],
   "source": [
    "df_filtered['total_cases']"
   ]
  },
  {
   "cell_type": "code",
   "execution_count": 29,
   "id": "d13f7907-f1c6-44b0-9111-2d5a5441c9c7",
   "metadata": {},
   "outputs": [
    {
     "data": {
      "text/plain": [
       "155234     74694.0\n",
       "251854    119664.0\n",
       "Name: total_deaths, dtype: float64"
      ]
     },
     "execution_count": 29,
     "metadata": {},
     "output_type": "execute_result"
    }
   ],
   "source": [
    "df_filtered['total_deaths']"
   ]
  },
  {
   "cell_type": "code",
   "execution_count": 33,
   "id": "26bba499-25f3-4a2f-afa1-6046ad2a0a86",
   "metadata": {},
   "outputs": [
    {
     "data": {
      "text/plain": [
       "155234           NaN\n",
       "251854    22877392.0\n",
       "Name: people_vaccinated, dtype: float64"
      ]
     },
     "execution_count": 33,
     "metadata": {},
     "output_type": "execute_result"
    }
   ],
   "source": [
    "df_filtered['people_vaccinated']"
   ]
  },
  {
   "cell_type": "code",
   "execution_count": 35,
   "id": "3f2d471c-96ad-463b-bfe9-81c85f711279",
   "metadata": {},
   "outputs": [
    {
     "data": {
      "text/plain": [
       "153835           NaN\n",
       "153836           NaN\n",
       "153837           NaN\n",
       "153838           NaN\n",
       "153839           NaN\n",
       "             ...    \n",
       "251850    22877379.0\n",
       "251851    22877382.0\n",
       "251852    22877389.0\n",
       "251853           NaN\n",
       "251854    22877392.0\n",
       "Name: people_vaccinated, Length: 2800, dtype: float64"
      ]
     },
     "execution_count": 35,
     "metadata": {},
     "output_type": "execute_result"
    }
   ],
   "source": [
    "df_filtered['people_vaccinated']"
   ]
  },
  {
   "cell_type": "code",
   "execution_count": null,
   "id": "e15e598b-53de-4335-a3da-54c3c7a635c8",
   "metadata": {},
   "outputs": [],
   "source": []
  }
 ],
 "metadata": {
  "kernelspec": {
   "display_name": "Python 3 (ipykernel)",
   "language": "python",
   "name": "python3"
  },
  "language_info": {
   "codemirror_mode": {
    "name": "ipython",
    "version": 3
   },
   "file_extension": ".py",
   "mimetype": "text/x-python",
   "name": "python",
   "nbconvert_exporter": "python",
   "pygments_lexer": "ipython3",
   "version": "3.11.0"
  }
 },
 "nbformat": 4,
 "nbformat_minor": 5
}
